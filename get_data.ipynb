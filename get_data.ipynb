{
 "cells": [
  {
   "cell_type": "code",
   "execution_count": 17,
   "metadata": {},
   "outputs": [],
   "source": [
    "from secrets import alpha_vantage_API_token\n",
    "import pandas as pd\n",
    "import csv\n",
    "import requests\n",
    "import time"
   ]
  },
  {
   "cell_type": "code",
   "execution_count": 4,
   "metadata": {},
   "outputs": [
    {
     "data": {
      "text/plain": [
       "505"
      ]
     },
     "execution_count": 4,
     "metadata": {},
     "output_type": "execute_result"
    }
   ],
   "source": [
    "sp500 = pd.read_csv('constituents_csv.csv')\n",
    "symbols = sorted(list(sp500.Symbol))\n",
    "len(symbols)"
   ]
  },
  {
   "cell_type": "code",
   "execution_count": 5,
   "metadata": {},
   "outputs": [],
   "source": [
    "months = []\n",
    "for year in range(1,2):\n",
    "    for month in range(1,13):\n",
    "        months.append(f'year{year}month{month}')"
   ]
  },
  {
   "cell_type": "code",
   "execution_count": 6,
   "metadata": {},
   "outputs": [],
   "source": [
    "# # https://www.alphavantage.co/documentation/#intraday-extended"
   ]
  },
  {
   "cell_type": "code",
   "execution_count": null,
   "metadata": {},
   "outputs": [],
   "source": []
  },
  {
   "cell_type": "code",
   "execution_count": 18,
   "metadata": {},
   "outputs": [
    {
     "name": "stdout",
     "output_type": "stream",
     "text": [
      "year1month1\n",
      "year1month2\n",
      "year1month3\n",
      "year1month4\n",
      "year1month5\n",
      "year1month6\n",
      "year1month7\n",
      "year1month8\n",
      "year1month9\n",
      "year1month10\n",
      "year1month11\n",
      "year1month12\n"
     ]
    }
   ],
   "source": [
    "basic_df = pd.DataFrame([],columns=['time','open','high','low','close','volume'])\n",
    "\n",
    "for month in months[:]:\n",
    "    print(month)\n",
    "    CSV_URL = f'https://www.alphavantage.co/query?function=TIME_SERIES_INTRADAY_EXTENDED&symbol=IBM&interval=60min&slice={month}&apikey={alpha_vantage_API_token}'\n",
    "    with requests.Session() as s:\n",
    "        download = s.get(CSV_URL)\n",
    "        decoded_content = download.content.decode('utf-8')    \n",
    "        cr = csv.reader(decoded_content.splitlines(), delimiter=',')\n",
    "        df = pd.DataFrame(cr)\n",
    "        df.columns = df.iloc[0]\n",
    "        df.drop(df.index[0],inplace=True)\n",
    "        basic_df = basic_df.append(df)\n",
    "    time.sleep(12)"
   ]
  },
  {
   "cell_type": "code",
   "execution_count": 11,
   "metadata": {
    "scrolled": true
   },
   "outputs": [],
   "source": [
    "basic_df =basic_df.sort_values('time')"
   ]
  },
  {
   "cell_type": "code",
   "execution_count": 16,
   "metadata": {},
   "outputs": [
    {
     "data": {
      "text/plain": [
       "1        \"Note\": \"Thank you for using Alpha Vantage...\n",
       "2                                                    }\n",
       "1        \"Note\": \"Thank you for using Alpha Vantage...\n",
       "2                                                    }\n",
       "1        \"Note\": \"Thank you for using Alpha Vantage...\n",
       "2                                                    }\n",
       "1        \"Note\": \"Thank you for using Alpha Vantage...\n",
       "2                                                    }\n",
       "1        \"Note\": \"Thank you for using Alpha Vantage...\n",
       "2                                                    }\n",
       "Name: {, dtype: object"
      ]
     },
     "execution_count": 16,
     "metadata": {},
     "output_type": "execute_result"
    }
   ],
   "source": [
    "basic_df[-10:]['{']"
   ]
  },
  {
   "cell_type": "code",
   "execution_count": null,
   "metadata": {},
   "outputs": [],
   "source": [
    "basic_df['time']= pd.to_datetime(basic_df['time'])\n",
    "basic_df['open']= pd.to_numeric(basic_df['open'])\n",
    "basic_df['high']= pd.to_numeric(basic_df['high'])\n",
    "basic_df['low']= pd.to_numeric(basic_df['low'])\n",
    "basic_df['close']= pd.to_numeric(basic_df['close'])\n",
    "basic_df['volume']= pd.to_numeric(basic_df['volume'])"
   ]
  },
  {
   "cell_type": "code",
   "execution_count": null,
   "metadata": {},
   "outputs": [],
   "source": [
    "basic_df = basic_df.set_index('time')"
   ]
  },
  {
   "cell_type": "code",
   "execution_count": null,
   "metadata": {},
   "outputs": [],
   "source": [
    "basic_df.dtypes"
   ]
  },
  {
   "cell_type": "code",
   "execution_count": null,
   "metadata": {},
   "outputs": [],
   "source": [
    "basic_df"
   ]
  },
  {
   "cell_type": "code",
   "execution_count": null,
   "metadata": {},
   "outputs": [],
   "source": [
    "# daily = pd.read_csv('SP500_NOV2019_Hist.csv',index_col=0,parse_dates=True)\n",
    "# daily"
   ]
  },
  {
   "cell_type": "code",
   "execution_count": null,
   "metadata": {},
   "outputs": [],
   "source": [
    "import mplfinance as mpf"
   ]
  },
  {
   "cell_type": "code",
   "execution_count": null,
   "metadata": {},
   "outputs": [],
   "source": [
    "mpf.plot(basic_df[-100:],type='candle',mav=(3,6,9),volume=True)"
   ]
  },
  {
   "cell_type": "code",
   "execution_count": null,
   "metadata": {},
   "outputs": [],
   "source": [
    "mpf.plot(basic_df[-50:])"
   ]
  },
  {
   "cell_type": "code",
   "execution_count": null,
   "metadata": {},
   "outputs": [],
   "source": [
    "temp = pd.DataFrame(cr)"
   ]
  },
  {
   "cell_type": "code",
   "execution_count": null,
   "metadata": {},
   "outputs": [],
   "source": [
    "df = temp.copy()"
   ]
  },
  {
   "cell_type": "code",
   "execution_count": null,
   "metadata": {},
   "outputs": [],
   "source": [
    "df.columns = df.iloc[0]"
   ]
  },
  {
   "cell_type": "code",
   "execution_count": null,
   "metadata": {},
   "outputs": [],
   "source": [
    "df.drop(df.index[0],inplace=True)"
   ]
  },
  {
   "cell_type": "code",
   "execution_count": null,
   "metadata": {},
   "outputs": [],
   "source": [
    "df"
   ]
  },
  {
   "cell_type": "code",
   "execution_count": null,
   "metadata": {},
   "outputs": [],
   "source": [
    "df2 = df.copy()"
   ]
  },
  {
   "cell_type": "code",
   "execution_count": null,
   "metadata": {},
   "outputs": [],
   "source": [
    "df.append(df2)"
   ]
  },
  {
   "cell_type": "code",
   "execution_count": null,
   "metadata": {},
   "outputs": [],
   "source": []
  }
 ],
 "metadata": {
  "kernelspec": {
   "display_name": "Python 3",
   "language": "python",
   "name": "python3"
  },
  "language_info": {
   "codemirror_mode": {
    "name": "ipython",
    "version": 3
   },
   "file_extension": ".py",
   "mimetype": "text/x-python",
   "name": "python",
   "nbconvert_exporter": "python",
   "pygments_lexer": "ipython3",
   "version": "3.7.10"
  }
 },
 "nbformat": 4,
 "nbformat_minor": 4
}
